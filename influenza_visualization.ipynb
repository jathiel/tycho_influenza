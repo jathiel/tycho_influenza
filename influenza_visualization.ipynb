{
 "cells": [
  {
   "cell_type": "markdown",
   "metadata": {},
   "source": [
    "# Analyzing the data file\n",
    "\n",
    "The influenza dataset downloaded [here](https://www.tycho.pitt.edu/dataset/US.6142004/) contains the following headers:\n",
    "```\n",
    "# 0  : \"ConditionName\"\n",
    "# 1  : \"ConditionSNOMED\"\n",
    "# 2  : \"PathogenName\"\n",
    "# 3  : \"PathogenTaxonID\"\n",
    "# 4  : \"Fatalities\"\n",
    "# 5  : \"CountryName\"\n",
    "# 6  : \"CountryISO\"\n",
    "# 7  : \"Admin1Name\"\n",
    "# 8  : \"Admin1ISO\"\n",
    "# 9  : \"Admin2Name\"\n",
    "# 10 : \"CityName\"\n",
    "# 11 : \"PeriodStartDate\" YYYY-MM-DD\n",
    "# 12 : \"PeriodEndDate\" YYYY-MM-DD\n",
    "# 13 : \"PartOfCumulativeCountSeries\"\n",
    "# 14 : \"AgeRange\"\n",
    "# 15 : \"Subpopulation\"\n",
    "# 16 : \"PlaceOfAcquisition\"\n",
    "# 17 : \"DiagnosisCertainty\"\n",
    "# 18 : \"SourceName\"\n",
    "# 19 : \"CountValue\"\n",
    "```\n",
    "\n",
    "We notice a few things about the dataset:\n",
    "\n",
    "* There is only one PathogenName in the dataset"
   ]
  },
  {
   "cell_type": "code",
   "execution_count": 31,
   "metadata": {},
   "outputs": [
    {
     "name": "stdout",
     "output_type": "stream",
     "text": [
      "#### Reading data from 'data/influenza/US/US.6142004.csv'\n"
     ]
    },
    {
     "data": {
      "text/html": [
       "<table>\n",
       "<thead>\n",
       "<tr><th>Unique Pathogen Names       </th></tr>\n",
       "</thead>\n",
       "<tbody>\n",
       "<tr><td>unidentified influenza virus</td></tr>\n",
       "</tbody>\n",
       "</table>"
      ],
      "text/plain": [
       "<IPython.core.display.HTML object>"
      ]
     },
     "metadata": {},
     "output_type": "display_data"
    }
   ],
   "source": [
    "%run src/plots/unique_in_column.py 'data/influenza/US/US.6142004.csv' 'PathogenName'"
   ]
  },
  {
   "cell_type": "code",
   "execution_count": 33,
   "metadata": {},
   "outputs": [
    {
     "data": {
      "image/png": "[encoded data removed]",
      "text/plain": [
       "<Figure size 432x288 with 1 Axes>"
      ]
     },
     "metadata": {
      "needs_background": "light"
     },
     "output_type": "display_data"
    }
   ],
   "source": [
    "%run src/plot_data.py"
   ]
  },
  {
   "cell_type": "code",
   "execution_count": null,
   "metadata": {},
   "outputs": [],
   "source": []
  }
 ],
 "metadata": {
  "kernelspec": {
   "display_name": "Python 3",
   "language": "python",
   "name": "python3"
  },
  "language_info": {
   "codemirror_mode": {
    "name": "ipython",
    "version": 3
   },
   "file_extension": ".py",
   "mimetype": "text/x-python",
   "name": "python",
   "nbconvert_exporter": "python",
   "pygments_lexer": "ipython3",
   "version": "3.7.0"
  }
 },
 "nbformat": 4,
 "nbformat_minor": 2
}
