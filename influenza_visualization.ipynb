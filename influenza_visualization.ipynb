{
 "cells": [
  {
   "cell_type": "markdown",
   "metadata": {},
   "source": [
    "# Analyzing the Influenza Dataset\n",
    "\n",
    "The influenza dataset downloaded [here](https://www.tycho.pitt.edu/dataset/US.6142004/). This is downloaded along with the relevant metadata in `data/influenza/US/*`. The dataset contains the following columns:\n",
    "\n",
    "```\n",
    "# 0  : \"ConditionName\"\n",
    "# 1  : \"ConditionSNOMED\"\n",
    "# 2  : \"PathogenName\"\n",
    "# 3  : \"PathogenTaxonID\"\n",
    "# 4  : \"Fatalities\"\n",
    "# 5  : \"CountryName\"\n",
    "# 6  : \"CountryISO\"\n",
    "# 7  : \"Admin1Name\"\n",
    "# 8  : \"Admin1ISO\"\n",
    "# 9  : \"Admin2Name\"\n",
    "# 10 : \"CityName\"\n",
    "# 11 : \"PeriodStartDate\" YYYY-MM-DD\n",
    "# 12 : \"PeriodEndDate\" YYYY-MM-DD\n",
    "# 13 : \"PartOfCumulativeCountSeries\"\n",
    "# 14 : \"AgeRange\"\n",
    "# 15 : \"Subpopulation\"\n",
    "# 16 : \"PlaceOfAcquisition\"\n",
    "# 17 : \"DiagnosisCertainty\"\n",
    "# 18 : \"SourceName\"\n",
    "# 19 : \"CountValue\"\n",
    "```\n",
    "\n",
    "We notice a few things about the dataset:\n",
    "\n",
    "* There is only one PathogenName in the dataset\n",
    "* There is only one AgeRange in the dataset\n",
    "* There are no DiagnosisCertainty values\n",
    "* The CountValue column is sometimes a \"Cummulative\" value\n",
    "  * See the [dataset readme](data/influenza/US/README.txt) under 'Separate cumulative from non-cumulative time interval series'\n",
    "  * The PartOfCumulativeCountSeries is not provided in this dataset"
   ]
  },
  {
   "cell_type": "code",
   "execution_count": 3,
   "metadata": {},
   "outputs": [
    {
     "data": {
      "text/html": [
       "<table>\n",
       "<thead>\n",
       "<tr><th>Unique PathogenName Values  </th></tr>\n",
       "</thead>\n",
       "<tbody>\n",
       "<tr><td>unidentified influenza virus</td></tr>\n",
       "</tbody>\n",
       "</table>"
      ],
      "text/plain": [
       "<IPython.core.display.HTML object>"
      ]
     },
     "metadata": {},
     "output_type": "display_data"
    },
    {
     "data": {
      "text/html": [
       "<table>\n",
       "<thead>\n",
       "<tr><th>Unique AgeRange Values  </th></tr>\n",
       "</thead>\n",
       "<tbody>\n",
       "<tr><td>0-130                   </td></tr>\n",
       "</tbody>\n",
       "</table>"
      ],
      "text/plain": [
       "<IPython.core.display.HTML object>"
      ]
     },
     "metadata": {},
     "output_type": "display_data"
    },
    {
     "data": {
      "text/html": [
       "<table>\n",
       "<thead>\n",
       "<tr><th>Unique DiagnosisCertainty Values  </th></tr>\n",
       "</thead>\n",
       "<tbody>\n",
       "<tr><td>NA                                </td></tr>\n",
       "</tbody>\n",
       "</table>"
      ],
      "text/plain": [
       "<IPython.core.display.HTML object>"
      ]
     },
     "metadata": {},
     "output_type": "display_data"
    },
    {
     "data": {
      "text/html": [
       "<table>\n",
       "<thead>\n",
       "<tr><th style=\"text-align: right;\">  Unique PartOfCumulativeCountSeries Values</th></tr>\n",
       "</thead>\n",
       "<tbody>\n",
       "<tr><td style=\"text-align: right;\">                                          0</td></tr>\n",
       "</tbody>\n",
       "</table>"
      ],
      "text/plain": [
       "<IPython.core.display.HTML object>"
      ]
     },
     "metadata": {},
     "output_type": "display_data"
    },
    {
     "data": {
      "image/png": "[encoded data removed]",
      "text/plain": [
       "<Figure size 720x720 with 1 Axes>"
      ]
     },
     "metadata": {
      "needs_background": "light"
     },
     "output_type": "display_data"
    }
   ],
   "source": [
    "%run src/plots/unique_in_column.py 'data/influenza/US/US.6142004.csv' 'PathogenName'\n",
    "%run src/plots/unique_in_column.py 'data/influenza/US/US.6142004.csv' 'AgeRange'\n",
    "%run src/plots/unique_in_column.py 'data/influenza/US/US.6142004.csv' 'DiagnosisCertainty'\n",
    "%run src/plots/unique_in_column.py 'data/influenza/US/US.6142004.csv' 'PartOfCumulativeCountSeries'\n",
    "%run src/plots/date_plot.py 'data/influenza/US/US.6142004.csv' 'PeriodStartDate' 'CountValue'"
   ]
  },
  {
   "cell_type": "markdown",
   "metadata": {},
   "source": [
    "## Sanitizing the Dataset\n",
    "\n",
    "We first want to verify if `CountType` contains overlapping date intervals. We do so with a simple script below, and find many intervals with overlapping dates.\n"
   ]
  },
  {
   "cell_type": "code",
   "execution_count": 2,
   "metadata": {},
   "outputs": [
    {
     "data": {
      "text/html": [
       "<table>\n",
       "<thead>\n",
       "<tr><th>Date range                 </th><th>Overlaps with              </th></tr>\n",
       "</thead>\n",
       "<tbody>\n",
       "<tr><td>(1923-11-05) - (1923-11-11)</td><td>(1923-11-04) - (1923-11-10)</td></tr>\n",
       "<tr><td>(1937-05-23) - (1937-05-29)</td><td>(1937-05-17) - (1937-05-23)</td></tr>\n",
       "<tr><td>(1937-05-23) - (1937-05-29)</td><td>(1937-05-17) - (1937-05-23)</td></tr>\n",
       "<tr><td>(1923-11-05) - (1923-11-11)</td><td>(1923-11-04) - (1923-11-10)</td></tr>\n",
       "<tr><td>(1937-05-23) - (1937-05-29)</td><td>(1937-05-17) - (1937-05-23)</td></tr>\n",
       "<tr><td>(1937-05-23) - (1937-05-29)</td><td>(1937-05-17) - (1937-05-23)</td></tr>\n",
       "<tr><td>(1937-05-23) - (1937-05-29)</td><td>(1937-05-17) - (1937-05-23)</td></tr>\n",
       "<tr><td>(1937-05-23) - (1937-05-29)</td><td>(1937-05-17) - (1937-05-23)</td></tr>\n",
       "<tr><td>(1937-05-23) - (1937-05-29)</td><td>(1937-05-17) - (1937-05-23)</td></tr>\n",
       "<tr><td>(1937-05-23) - (1937-05-29)</td><td>(1937-05-17) - (1937-05-23)</td></tr>\n",
       "<tr><td>(1937-05-23) - (1937-05-29)</td><td>(1937-05-17) - (1937-05-23)</td></tr>\n",
       "<tr><td>(1937-05-23) - (1937-05-29)</td><td>(1937-05-17) - (1937-05-23)</td></tr>\n",
       "<tr><td>(1937-05-23) - (1937-05-29)</td><td>(1937-05-17) - (1937-05-23)</td></tr>\n",
       "<tr><td>(1937-05-23) - (1937-05-29)</td><td>(1937-05-17) - (1937-05-23)</td></tr>\n",
       "<tr><td>(1937-05-23) - (1937-05-29)</td><td>(1937-05-17) - (1937-05-23)</td></tr>\n",
       "<tr><td>(1937-05-23) - (1937-05-29)</td><td>(1937-05-17) - (1937-05-23)</td></tr>\n",
       "<tr><td>(1937-05-23) - (1937-05-29)</td><td>(1937-05-17) - (1937-05-23)</td></tr>\n",
       "<tr><td>(1937-05-23) - (1937-05-29)</td><td>(1937-05-17) - (1937-05-23)</td></tr>\n",
       "<tr><td>(1923-11-05) - (1923-11-11)</td><td>(1923-11-04) - (1923-11-10)</td></tr>\n",
       "<tr><td>(1920-01-18) - (1920-01-24)</td><td>(1920-01-18) - (1920-01-24)</td></tr>\n",
       "<tr><td>(1937-05-23) - (1937-05-29)</td><td>(1937-05-17) - (1937-05-23)</td></tr>\n",
       "<tr><td>(1937-05-23) - (1937-05-29)</td><td>(1937-05-17) - (1937-05-23)</td></tr>\n",
       "<tr><td>(1937-05-23) - (1937-05-29)</td><td>(1937-05-17) - (1937-05-23)</td></tr>\n",
       "<tr><td>(1937-05-23) - (1937-05-29)</td><td>(1937-05-17) - (1937-05-23)</td></tr>\n",
       "<tr><td>(1937-05-23) - (1937-05-29)</td><td>(1937-05-17) - (1937-05-23)</td></tr>\n",
       "<tr><td>(1937-05-23) - (1937-05-29)</td><td>(1937-05-17) - (1937-05-23)</td></tr>\n",
       "<tr><td>(1923-02-25) - (1923-03-03)</td><td>(1923-02-25) - (1923-03-03)</td></tr>\n",
       "<tr><td>(1937-05-23) - (1937-05-29)</td><td>(1937-05-17) - (1937-05-23)</td></tr>\n",
       "<tr><td>(1937-05-23) - (1937-05-29)</td><td>(1937-05-17) - (1937-05-23)</td></tr>\n",
       "<tr><td>(1937-05-23) - (1937-05-29)</td><td>(1937-05-17) - (1937-05-23)</td></tr>\n",
       "<tr><td>(1937-05-23) - (1937-05-29)</td><td>(1937-05-17) - (1937-05-23)</td></tr>\n",
       "<tr><td>(1937-05-23) - (1937-05-29)</td><td>(1937-05-17) - (1937-05-23)</td></tr>\n",
       "<tr><td>(1937-05-23) - (1937-05-29)</td><td>(1937-05-17) - (1937-05-23)</td></tr>\n",
       "<tr><td>(1937-05-23) - (1937-05-29)</td><td>(1937-05-17) - (1937-05-23)</td></tr>\n",
       "<tr><td>(1937-05-23) - (1937-05-29)</td><td>(1937-05-17) - (1937-05-23)</td></tr>\n",
       "<tr><td>(1937-05-23) - (1937-05-29)</td><td>(1937-05-17) - (1937-05-23)</td></tr>\n",
       "<tr><td>(1937-05-23) - (1937-05-29)</td><td>(1937-05-17) - (1937-05-23)</td></tr>\n",
       "<tr><td>(1920-02-22) - (1920-02-28)</td><td>(1920-02-22) - (1920-02-28)</td></tr>\n",
       "<tr><td>(1922-11-05) - (1922-11-11)</td><td>(1922-11-05) - (1922-11-11)</td></tr>\n",
       "<tr><td>(1937-05-23) - (1937-05-29)</td><td>(1937-05-17) - (1937-05-23)</td></tr>\n",
       "<tr><td>(1923-02-25) - (1923-03-03)</td><td>(1923-02-25) - (1923-03-03)</td></tr>\n",
       "<tr><td>(1937-05-23) - (1937-05-29)</td><td>(1937-05-17) - (1937-05-23)</td></tr>\n",
       "<tr><td>(1920-03-07) - (1920-03-13)</td><td>(1920-03-07) - (1920-03-13)</td></tr>\n",
       "<tr><td>(1937-05-23) - (1937-05-29)</td><td>(1937-05-17) - (1937-05-23)</td></tr>\n",
       "<tr><td>(1937-05-23) - (1937-05-29)</td><td>(1937-05-17) - (1937-05-23)</td></tr>\n",
       "<tr><td>(1937-05-23) - (1937-05-29)</td><td>(1937-05-17) - (1937-05-23)</td></tr>\n",
       "<tr><td>(1937-05-23) - (1937-05-29)</td><td>(1937-05-17) - (1937-05-23)</td></tr>\n",
       "<tr><td>(1937-05-23) - (1937-05-29)</td><td>(1937-05-17) - (1937-05-23)</td></tr>\n",
       "<tr><td>(1937-05-23) - (1937-05-29)</td><td>(1937-05-17) - (1937-05-23)</td></tr>\n",
       "<tr><td>(1937-05-23) - (1937-05-29)</td><td>(1937-05-17) - (1937-05-23)</td></tr>\n",
       "<tr><td>(1937-05-23) - (1937-05-29)</td><td>(1937-05-17) - (1937-05-23)</td></tr>\n",
       "<tr><td>(1920-02-29) - (1920-03-06)</td><td>(1920-02-29) - (1920-03-06)</td></tr>\n",
       "<tr><td>(1937-05-23) - (1937-05-29)</td><td>(1937-05-17) - (1937-05-23)</td></tr>\n",
       "<tr><td>(1937-05-23) - (1937-05-29)</td><td>(1937-05-17) - (1937-05-23)</td></tr>\n",
       "<tr><td>(1937-05-23) - (1937-05-29)</td><td>(1937-05-17) - (1937-05-23)</td></tr>\n",
       "<tr><td>(1937-05-23) - (1937-05-29)</td><td>(1937-05-17) - (1937-05-23)</td></tr>\n",
       "<tr><td>(1937-05-23) - (1937-05-29)</td><td>(1937-05-17) - (1937-05-23)</td></tr>\n",
       "<tr><td>(1937-05-23) - (1937-05-29)</td><td>(1937-05-17) - (1937-05-23)</td></tr>\n",
       "<tr><td>(1937-05-23) - (1937-05-29)</td><td>(1937-05-17) - (1937-05-23)</td></tr>\n",
       "<tr><td>(1937-05-23) - (1937-05-29)</td><td>(1937-05-17) - (1937-05-23)</td></tr>\n",
       "<tr><td>(1937-05-23) - (1937-05-29)</td><td>(1937-05-17) - (1937-05-23)</td></tr>\n",
       "<tr><td>(1937-05-23) - (1937-05-29)</td><td>(1937-05-17) - (1937-05-23)</td></tr>\n",
       "<tr><td>(1937-05-23) - (1937-05-29)</td><td>(1937-05-17) - (1937-05-23)</td></tr>\n",
       "<tr><td>(1937-05-23) - (1937-05-29)</td><td>(1937-05-17) - (1937-05-23)</td></tr>\n",
       "<tr><td>(1937-05-23) - (1937-05-29)</td><td>(1937-05-17) - (1937-05-23)</td></tr>\n",
       "<tr><td>(1937-05-23) - (1937-05-29)</td><td>(1937-05-17) - (1937-05-23)</td></tr>\n",
       "<tr><td>(1937-05-23) - (1937-05-29)</td><td>(1937-05-17) - (1937-05-23)</td></tr>\n",
       "<tr><td>(1937-05-23) - (1937-05-29)</td><td>(1937-05-17) - (1937-05-23)</td></tr>\n",
       "<tr><td>(1937-05-23) - (1937-05-29)</td><td>(1937-05-17) - (1937-05-23)</td></tr>\n",
       "<tr><td>(1937-05-23) - (1937-05-29)</td><td>(1937-05-17) - (1937-05-23)</td></tr>\n",
       "<tr><td>(1937-05-23) - (1937-05-29)</td><td>(1937-05-17) - (1937-05-23)</td></tr>\n",
       "<tr><td>(1923-02-18) - (1923-02-24)</td><td>(1923-02-18) - (1923-02-24)</td></tr>\n",
       "<tr><td>(1937-05-23) - (1937-05-29)</td><td>(1937-05-17) - (1937-05-23)</td></tr>\n",
       "<tr><td>(1920-02-29) - (1920-03-06)</td><td>(1920-02-29) - (1920-03-06)</td></tr>\n",
       "<tr><td>(1937-05-23) - (1937-05-29)</td><td>(1937-05-17) - (1937-05-23)</td></tr>\n",
       "<tr><td>(1937-05-23) - (1937-05-29)</td><td>(1937-05-17) - (1937-05-23)</td></tr>\n",
       "<tr><td>(1923-02-11) - (1923-02-17)</td><td>(1923-02-11) - (1923-02-17)</td></tr>\n",
       "<tr><td>(1937-05-23) - (1937-05-29)</td><td>(1937-05-17) - (1937-05-23)</td></tr>\n",
       "<tr><td>(1920-02-22) - (1920-02-28)</td><td>(1920-02-22) - (1920-02-28)</td></tr>\n",
       "<tr><td>(1920-02-29) - (1920-03-06)</td><td>(1920-02-29) - (1920-03-06)</td></tr>\n",
       "<tr><td>(1937-05-23) - (1937-05-29)</td><td>(1937-05-17) - (1937-05-23)</td></tr>\n",
       "<tr><td>(1922-02-26) - (1922-03-04)</td><td>(1922-02-26) - (1922-03-04)</td></tr>\n",
       "<tr><td>(1920-01-04) - (1920-01-10)</td><td>(1920-01-04) - (1920-01-10)</td></tr>\n",
       "<tr><td>(1920-04-25) - (1920-05-01)</td><td>(1920-04-25) - (1920-05-01)</td></tr>\n",
       "<tr><td>(1922-02-26) - (1922-03-04)</td><td>(1922-02-26) - (1922-03-04)</td></tr>\n",
       "<tr><td>(1920-02-01) - (1920-02-07)</td><td>(1920-02-01) - (1920-02-07)</td></tr>\n",
       "<tr><td>(1920-02-29) - (1920-03-06)</td><td>(1920-02-29) - (1920-03-06)</td></tr>\n",
       "<tr><td>(1920-05-02) - (1920-05-08)</td><td>(1920-05-02) - (1920-05-08)</td></tr>\n",
       "<tr><td>(1937-05-23) - (1937-05-29)</td><td>(1937-05-17) - (1937-05-23)</td></tr>\n",
       "<tr><td>(1937-05-23) - (1937-05-29)</td><td>(1937-05-17) - (1937-05-23)</td></tr>\n",
       "<tr><td>(1937-05-23) - (1937-05-29)</td><td>(1937-05-17) - (1937-05-23)</td></tr>\n",
       "<tr><td>(1922-04-16) - (1922-04-22)</td><td>(1922-04-16) - (1922-04-22)</td></tr>\n",
       "<tr><td>(1923-01-14) - (1923-01-20)</td><td>(1923-01-14) - (1923-01-20)</td></tr>\n",
       "<tr><td>(1941-02-09) - (1941-02-15)</td><td>(1941-02-09) - (1941-02-15)</td></tr>\n",
       "<tr><td>(1941-02-09) - (1941-02-15)</td><td>(1941-02-09) - (1941-02-15)</td></tr>\n",
       "<tr><td>(1941-02-09) - (1941-02-15)</td><td>(1941-02-09) - (1941-02-15)</td></tr>\n",
       "<tr><td>(1941-02-09) - (1941-02-15)</td><td>(1941-02-09) - (1941-02-15)</td></tr>\n",
       "<tr><td>(1941-02-09) - (1941-02-15)</td><td>(1941-02-09) - (1941-02-15)</td></tr>\n",
       "<tr><td>(1941-02-09) - (1941-02-15)</td><td>(1941-02-09) - (1941-02-15)</td></tr>\n",
       "<tr><td>(1941-02-09) - (1941-02-15)</td><td>(1941-02-09) - (1941-02-15)</td></tr>\n",
       "<tr><td>(1941-02-09) - (1941-02-15)</td><td>(1941-02-09) - (1941-02-15)</td></tr>\n",
       "<tr><td>(1941-02-09) - (1941-02-15)</td><td>(1941-02-09) - (1941-02-15)</td></tr>\n",
       "<tr><td>(1941-02-09) - (1941-02-15)</td><td>(1941-02-09) - (1941-02-15)</td></tr>\n",
       "<tr><td>(1941-02-09) - (1941-02-15)</td><td>(1941-02-09) - (1941-02-15)</td></tr>\n",
       "<tr><td>(1941-02-09) - (1941-02-15)</td><td>(1941-02-09) - (1941-02-15)</td></tr>\n",
       "<tr><td>(1941-02-09) - (1941-02-15)</td><td>(1941-02-09) - (1941-02-15)</td></tr>\n",
       "<tr><td>(1941-02-09) - (1941-02-15)</td><td>(1941-02-09) - (1941-02-15)</td></tr>\n",
       "<tr><td>(1941-02-09) - (1941-02-15)</td><td>(1941-02-09) - (1941-02-15)</td></tr>\n",
       "<tr><td>(1941-02-09) - (1941-02-15)</td><td>(1941-02-09) - (1941-02-15)</td></tr>\n",
       "<tr><td>(1941-02-09) - (1941-02-15)</td><td>(1941-02-09) - (1941-02-15)</td></tr>\n",
       "<tr><td>(1941-02-09) - (1941-02-15)</td><td>(1941-02-09) - (1941-02-15)</td></tr>\n",
       "<tr><td>(1941-02-09) - (1941-02-15)</td><td>(1941-02-09) - (1941-02-15)</td></tr>\n",
       "<tr><td>(1941-02-09) - (1941-02-15)</td><td>(1941-02-09) - (1941-02-15)</td></tr>\n",
       "<tr><td>(1941-02-09) - (1941-02-15)</td><td>(1941-02-09) - (1941-02-15)</td></tr>\n",
       "<tr><td>(1941-02-09) - (1941-02-15)</td><td>(1941-02-09) - (1941-02-15)</td></tr>\n",
       "<tr><td>(1941-02-09) - (1941-02-15)</td><td>(1941-02-09) - (1941-02-15)</td></tr>\n",
       "<tr><td>(1941-02-09) - (1941-02-15)</td><td>(1941-02-09) - (1941-02-15)</td></tr>\n",
       "<tr><td>(1941-02-09) - (1941-02-15)</td><td>(1941-02-09) - (1941-02-15)</td></tr>\n",
       "<tr><td>(1941-02-09) - (1941-02-15)</td><td>(1941-02-09) - (1941-02-15)</td></tr>\n",
       "<tr><td>(1941-02-09) - (1941-02-15)</td><td>(1941-02-09) - (1941-02-15)</td></tr>\n",
       "<tr><td>(1941-02-09) - (1941-02-15)</td><td>(1941-02-09) - (1941-02-15)</td></tr>\n",
       "<tr><td>(1941-02-09) - (1941-02-15)</td><td>(1941-02-09) - (1941-02-15)</td></tr>\n",
       "<tr><td>(1941-02-09) - (1941-02-15)</td><td>(1941-02-09) - (1941-02-15)</td></tr>\n",
       "<tr><td>(1941-02-09) - (1941-02-15)</td><td>(1941-02-09) - (1941-02-15)</td></tr>\n",
       "<tr><td>(1941-02-09) - (1941-02-15)</td><td>(1941-02-09) - (1941-02-15)</td></tr>\n",
       "<tr><td>(1941-02-09) - (1941-02-15)</td><td>(1941-02-09) - (1941-02-15)</td></tr>\n",
       "<tr><td>(1941-02-09) - (1941-02-15)</td><td>(1941-02-09) - (1941-02-15)</td></tr>\n",
       "<tr><td>(1941-02-09) - (1941-02-15)</td><td>(1941-02-09) - (1941-02-15)</td></tr>\n",
       "<tr><td>(1941-02-09) - (1941-02-15)</td><td>(1941-02-09) - (1941-02-15)</td></tr>\n",
       "<tr><td>(1941-02-09) - (1941-02-15)</td><td>(1941-02-09) - (1941-02-15)</td></tr>\n",
       "<tr><td>(1941-02-09) - (1941-02-15)</td><td>(1941-02-09) - (1941-02-15)</td></tr>\n",
       "<tr><td>(1941-02-09) - (1941-02-15)</td><td>(1941-02-09) - (1941-02-15)</td></tr>\n",
       "<tr><td>(1920-02-01) - (1920-02-07)</td><td>(1920-02-01) - (1920-02-07)</td></tr>\n",
       "<tr><td>(1920-01-25) - (1920-01-31)</td><td>(1920-01-25) - (1920-01-31)</td></tr>\n",
       "<tr><td>(1920-02-22) - (1920-02-28)</td><td>(1920-02-22) - (1920-02-28)</td></tr>\n",
       "<tr><td>(1920-02-01) - (1920-02-07)</td><td>(1920-02-01) - (1920-02-07)</td></tr>\n",
       "<tr><td>(1920-02-15) - (1920-02-21)</td><td>(1920-02-15) - (1920-02-21)</td></tr>\n",
       "<tr><td>(1920-02-08) - (1920-02-14)</td><td>(1920-02-08) - (1920-02-14)</td></tr>\n",
       "<tr><td>(1920-02-15) - (1920-02-21)</td><td>(1920-02-15) - (1920-02-21)</td></tr>\n",
       "<tr><td>(1920-01-25) - (1920-01-31)</td><td>(1920-01-25) - (1920-01-31)</td></tr>\n",
       "<tr><td>(1920-02-01) - (1920-02-07)</td><td>(1920-02-01) - (1920-02-07)</td></tr>\n",
       "<tr><td>(1920-02-22) - (1920-02-28)</td><td>(1920-02-22) - (1920-02-28)</td></tr>\n",
       "<tr><td>(1920-02-08) - (1920-02-14)</td><td>(1920-02-08) - (1920-02-14)</td></tr>\n",
       "<tr><td>(1941-01-26) - (1941-02-01)</td><td>(1941-01-26) - (1941-02-01)</td></tr>\n",
       "<tr><td>(1920-01-25) - (1920-01-31)</td><td>(1920-01-25) - (1920-01-31)</td></tr>\n",
       "<tr><td>(1920-01-25) - (1920-01-31)</td><td>(1920-01-25) - (1920-01-31)</td></tr>\n",
       "<tr><td>(1920-02-08) - (1920-02-14)</td><td>(1920-02-08) - (1920-02-14)</td></tr>\n",
       "<tr><td>(1920-02-08) - (1920-02-14)</td><td>(1920-02-08) - (1920-02-14)</td></tr>\n",
       "<tr><td>(1920-01-11) - (1920-01-17)</td><td>(1920-01-11) - (1920-01-17)</td></tr>\n",
       "<tr><td>(1920-01-25) - (1920-01-31)</td><td>(1920-01-25) - (1920-01-31)</td></tr>\n",
       "<tr><td>(1920-02-15) - (1920-02-21)</td><td>(1920-02-15) - (1920-02-21)</td></tr>\n",
       "<tr><td>(1920-02-15) - (1920-02-21)</td><td>(1920-02-15) - (1920-02-21)</td></tr>\n",
       "<tr><td>(1920-02-15) - (1920-02-21)</td><td>(1920-02-15) - (1920-02-21)</td></tr>\n",
       "<tr><td>(1920-02-15) - (1920-02-21)</td><td>(1920-02-15) - (1920-02-21)</td></tr>\n",
       "<tr><td>(1920-02-08) - (1920-02-14)</td><td>(1920-02-08) - (1920-02-14)</td></tr>\n",
       "<tr><td>(1920-02-22) - (1920-02-28)</td><td>(1920-02-22) - (1920-02-28)</td></tr>\n",
       "<tr><td>(1920-01-18) - (1920-01-24)</td><td>(1920-01-18) - (1920-01-24)</td></tr>\n",
       "<tr><td>(1920-02-15) - (1920-02-21)</td><td>(1920-02-15) - (1920-02-21)</td></tr>\n",
       "<tr><td>(1920-01-25) - (1920-01-31)</td><td>(1920-01-25) - (1920-01-31)</td></tr>\n",
       "<tr><td>(1920-01-25) - (1920-01-31)</td><td>(1920-01-25) - (1920-01-31)</td></tr>\n",
       "<tr><td>(1920-02-22) - (1920-02-28)</td><td>(1920-02-22) - (1920-02-28)</td></tr>\n",
       "<tr><td>(1920-01-25) - (1920-01-31)</td><td>(1920-01-25) - (1920-01-31)</td></tr>\n",
       "<tr><td>(1920-01-25) - (1920-01-31)</td><td>(1920-01-25) - (1920-01-31)</td></tr>\n",
       "<tr><td>(1920-01-25) - (1920-01-31)</td><td>(1920-01-25) - (1920-01-31)</td></tr>\n",
       "<tr><td>(1920-02-08) - (1920-02-14)</td><td>(1920-02-08) - (1920-02-14)</td></tr>\n",
       "<tr><td>(1920-02-08) - (1920-02-14)</td><td>(1920-02-08) - (1920-02-14)</td></tr>\n",
       "<tr><td>(1920-02-08) - (1920-02-14)</td><td>(1920-02-08) - (1920-02-14)</td></tr>\n",
       "<tr><td>(1920-02-15) - (1920-02-21)</td><td>(1920-02-15) - (1920-02-21)</td></tr>\n",
       "<tr><td>(1920-02-29) - (1920-03-06)</td><td>(1920-02-29) - (1920-03-06)</td></tr>\n",
       "<tr><td>(1920-02-15) - (1920-02-21)</td><td>(1920-02-15) - (1920-02-21)</td></tr>\n",
       "<tr><td>(1920-01-18) - (1920-01-24)</td><td>(1920-01-18) - (1920-01-24)</td></tr>\n",
       "<tr><td>(1920-02-01) - (1920-02-07)</td><td>(1920-02-01) - (1920-02-07)</td></tr>\n",
       "<tr><td>(1941-01-26) - (1941-02-01)</td><td>(1941-01-26) - (1941-02-01)</td></tr>\n",
       "<tr><td>(1941-01-26) - (1941-02-01)</td><td>(1941-01-26) - (1941-02-01)</td></tr>\n",
       "</tbody>\n",
       "</table>"
      ],
      "text/plain": [
       "<IPython.core.display.HTML object>"
      ]
     },
     "metadata": {},
     "output_type": "display_data"
    }
   ],
   "source": [
    "%run src/lib/cumulative_to_fixed_interval.py 'data/influenza/US/US.6142004.csv' 'PeriodStartDate' 'PeriodEndDate' 'CountValue'"
   ]
  },
  {
   "cell_type": "markdown",
   "metadata": {},
   "source": [
    "#### How to clean the dataset\n",
    "\n",
    "Picking a row in the overlapping dateranges found above range values as an example:\n",
    "\n",
    "```\n",
    "\"Influenza\",\"6142004\",\"unidentified influenza virus\",\"11309\",\"0\",\"UNITED STATES OF AMERICA\",\"US\",\"PENNSYLVANIA\",\"US-PA\",\"PHILADELPHIA COUNTY\",\"PHILADELPHIA\",\"1923-11-04\",\"1923-11-10\",\"0\",\"0-130\",\"None specified\",\"NA\",\"NA\",\"US Nationally Notifiable Disease Surveillance System\",\"2\"\n",
    "\"Influenza\",\"6142004\",\"unidentified influenza virus\",\"11309\",\"0\",\"UNITED STATES OF AMERICA\",\"US\",\"PENNSYLVANIA\",\"US-PA\",\"PHILADELPHIA COUNTY\",\"PHILADELPHIA\",\"1923-11-05\",\"1923-11-11\",\"0\",\"0-130\",\"None specified\",\"NA\",\"NA\",\"US Nationally Notifiable Disease Surveillance System\",\"3\"\n",
    "```\n",
    "\n",
    "We find:\n",
    "\n",
    "* Between `\"1923-11-04\",\"1923-11-10\"` there were `2` reported counts of Influenza (in Philadelphia)\n",
    "* Between `\"1923-11-05\",\"1923-11-11\"` there were `3` reported counts of Influenza\n",
    "\n",
    "\n",
    "We want the data to be sanitized into the following format:\n",
    "* Between `\"1923-11-04\",\"1923-11-11\"` there were `3` reported counts of Influenza\n",
    "\n",
    "\n",
    "We can do so by \"squashing\" the ranges:\n",
    "\n",
    "Given two date ranges `[a1, a2]` and `[a3, a4]`, squash them into `[min(a1, a3), max(a2, a4)]` and use the largest reported count value.\n"
   ]
  }
 ],
 "metadata": {
  "kernelspec": {
   "display_name": "Python 3",
   "language": "python",
   "name": "python3"
  },
  "language_info": {
   "codemirror_mode": {
    "name": "ipython",
    "version": 3
   },
   "file_extension": ".py",
   "mimetype": "text/x-python",
   "name": "python",
   "nbconvert_exporter": "python",
   "pygments_lexer": "ipython3",
   "version": "3.7.0"
  }
 },
 "nbformat": 4,
 "nbformat_minor": 2
}
